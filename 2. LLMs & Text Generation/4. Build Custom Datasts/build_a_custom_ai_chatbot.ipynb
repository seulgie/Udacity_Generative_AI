{
 "cells": [
  {
   "cell_type": "markdown",
   "id": "1417fd61",
   "metadata": {},
   "source": [
    "# Build a Custom OpenAI Chatbot with ML-Driven Prompt Engineering\n",
    "\n",
    "The code below is designed to run as-is with one exception: **the OpenAI API key must be specified**. Edit the cell below to add your API key between the double quotes.\n",
    "\n",
    "Then, to execute each code cell, click on it and press `Shift` + `Enter` on your keyboard."
   ]
  },
  {
   "cell_type": "code",
   "execution_count": 1,
   "id": "3e212665",
   "metadata": {},
   "outputs": [],
   "source": [
    "import openai\n",
    "openai.api_base = \"https://openai.vocareum.com/v1\"\n",
    "openai.api_key = \"MY_API_KEY""
   ]
  },
  {
   "cell_type": "markdown",
   "id": "1c45c16c",
   "metadata": {},
   "source": [
    "## Step 0: Inspecting Non-Customized Results\n",
    "\n",
    "Before we perform any prompt engineering, **let's ask the OpenAI model some questions and see how it answers**.\n",
    "\n",
    "(If you encounter an `AuthenticationError` when running this code, make sure that you have added a valid API key to the cell above and executed it.)"
   ]
  },
  {
   "cell_type": "code",
   "execution_count": 2,
   "id": "a920753f",
   "metadata": {},
   "outputs": [
    {
     "name": "stdout",
     "output_type": "stream",
     "text": [
      "Russia invaded Ukraine in 2014.\n"
     ]
    }
   ],
   "source": [
    "ukraine_prompt = \"\"\"\n",
    "Question: \"When did Russia invade Ukraine?\"\n",
    "Answer:\n",
    "\"\"\"\n",
    "initial_ukraine_answer = openai.Completion.create(\n",
    "    model=\"gpt-3.5-turbo-instruct\",\n",
    "    prompt=ukraine_prompt,\n",
    "    max_tokens=150\n",
    ")[\"choices\"][0][\"text\"].strip()\n",
    "print(initial_ukraine_answer)"
   ]
  },
  {
   "cell_type": "code",
   "execution_count": 3,
   "id": "8f85c675",
   "metadata": {},
   "outputs": [
    {
     "name": "stdout",
     "output_type": "stream",
     "text": [
      "Jack Dorsey, Noah Glass, Biz Stone, and Evan Williams. They are the co-founders of Twitter and have ownership stakes in the company. Additionally, many individual and institutional investors also hold shares of Twitter. As of April 2021, the largest individual shareholder is billionaire and activist investor Paul Singer, who holds a 10.4% stake in Twitter through his hedge fund Elliott Management.\n"
     ]
    }
   ],
   "source": [
    "twitter_prompt = \"\"\"\n",
    "Question: \"Who owns Twitter?\"\n",
    "Answer:\n",
    "\"\"\"\n",
    "initial_twitter_answer = openai.Completion.create(\n",
    "    model=\"gpt-3.5-turbo-instruct\",\n",
    "    prompt=twitter_prompt,\n",
    "    max_tokens=150\n",
    ")[\"choices\"][0][\"text\"].strip()\n",
    "print(initial_twitter_answer)"
   ]
  },
  {
   "cell_type": "markdown",
   "id": "66923e33",
   "metadata": {},
   "source": [
    "The model is answering this way because the training data ends in 2021. **Our task will be to provide context from 2022 to help the model answer these questions correctly.**"
   ]
  },
  {
   "cell_type": "markdown",
   "id": "aee2b145",
   "metadata": {},
   "source": [
    "# Step 1: Prepare Dataset"
   ]
  },
  {
   "cell_type": "markdown",
   "id": "c3bb8bb1",
   "metadata": {},
   "source": [
    "## Loading and Wrangling Data"
   ]
  },
  {
   "cell_type": "markdown",
   "id": "8d50cc7e",
   "metadata": {},
   "source": [
    "**The data should be loaded into a pandas `DataFrame` called `df` where each row represents a text sample, and there is only one column, `\"text\"`, which contains the raw text data.**\n",
    "\n",
    "In this particular case we are collecting data from [the Wikipedia page for the year 2022](https://en.wikipedia.org/wiki/2022) and performing some data wrangling to get it into the appropriate format. Don't worry too much about the details here, since data wrangling looks different for every dataset!"
   ]
  },
  {
   "cell_type": "code",
   "execution_count": 4,
   "id": "5f517cb9",
   "metadata": {},
   "outputs": [
    {
     "data": {
      "text/html": [
       "<div>\n",
       "<style scoped>\n",
       "    .dataframe tbody tr th:only-of-type {\n",
       "        vertical-align: middle;\n",
       "    }\n",
       "\n",
       "    .dataframe tbody tr th {\n",
       "        vertical-align: top;\n",
       "    }\n",
       "\n",
       "    .dataframe thead th {\n",
       "        text-align: right;\n",
       "    }\n",
       "</style>\n",
       "<table border=\"1\" class=\"dataframe\">\n",
       "  <thead>\n",
       "    <tr style=\"text-align: right;\">\n",
       "      <th></th>\n",
       "      <th>text</th>\n",
       "    </tr>\n",
       "  </thead>\n",
       "  <tbody>\n",
       "    <tr>\n",
       "      <th>0</th>\n",
       "      <td>– 2022 (MMXXII) was a common year starting on...</td>\n",
       "    </tr>\n",
       "    <tr>\n",
       "      <th>1</th>\n",
       "      <td>– The year began with another wave in the COV...</td>\n",
       "    </tr>\n",
       "    <tr>\n",
       "      <th>2</th>\n",
       "      <td>– 2022 was also dominated by wars and armed c...</td>\n",
       "    </tr>\n",
       "    <tr>\n",
       "      <th>9</th>\n",
       "      <td>January 1 – The Regional Comprehensive Econom...</td>\n",
       "    </tr>\n",
       "    <tr>\n",
       "      <th>10</th>\n",
       "      <td>January 2 – Abdalla Hamdok resigns as Prime Mi...</td>\n",
       "    </tr>\n",
       "    <tr>\n",
       "      <th>...</th>\n",
       "      <td>...</td>\n",
       "    </tr>\n",
       "    <tr>\n",
       "      <th>242</th>\n",
       "      <td>December 21–December 26 – A major winter storm...</td>\n",
       "    </tr>\n",
       "    <tr>\n",
       "      <th>243</th>\n",
       "      <td>December 24 – 2022 Fijian general election: Th...</td>\n",
       "    </tr>\n",
       "    <tr>\n",
       "      <th>244</th>\n",
       "      <td>December 29 – Brazilian football legend Pelé d...</td>\n",
       "    </tr>\n",
       "    <tr>\n",
       "      <th>245</th>\n",
       "      <td>December 31 – Former Pope Benedict XVI dies at...</td>\n",
       "    </tr>\n",
       "    <tr>\n",
       "      <th>249</th>\n",
       "      <td>December 7 – The world population was estimate...</td>\n",
       "    </tr>\n",
       "  </tbody>\n",
       "</table>\n",
       "<p>185 rows × 1 columns</p>\n",
       "</div>"
      ],
      "text/plain": [
       "                                                  text\n",
       "0     – 2022 (MMXXII) was a common year starting on...\n",
       "1     – The year began with another wave in the COV...\n",
       "2     – 2022 was also dominated by wars and armed c...\n",
       "9     January 1 – The Regional Comprehensive Econom...\n",
       "10   January 2 – Abdalla Hamdok resigns as Prime Mi...\n",
       "..                                                 ...\n",
       "242  December 21–December 26 – A major winter storm...\n",
       "243  December 24 – 2022 Fijian general election: Th...\n",
       "244  December 29 – Brazilian football legend Pelé d...\n",
       "245  December 31 – Former Pope Benedict XVI dies at...\n",
       "249  December 7 – The world population was estimate...\n",
       "\n",
       "[185 rows x 1 columns]"
      ]
     },
     "execution_count": 4,
     "metadata": {},
     "output_type": "execute_result"
    }
   ],
   "source": [
    "from dateutil.parser import parse\n",
    "import pandas as pd\n",
    "import requests\n",
    "\n",
    "# Get the Wikipedia page for \"2022\" since OpenAI's models stop in 2021\n",
    "resp = requests.get(\"https://en.wikipedia.org/w/api.php?action=query&prop=extracts&exlimit=1&titles=2022&explaintext=1&formatversion=2&format=json\")\n",
    "\n",
    "# Load page text into a dataframe\n",
    "df = pd.DataFrame()\n",
    "df[\"text\"] = resp.json()[\"query\"][\"pages\"][0][\"extract\"].split(\"\\n\")\n",
    "\n",
    "# Clean up text to remove empty lines and headings\n",
    "df = df[(df[\"text\"].str.len() > 0) & (~df[\"text\"].str.startswith(\"==\"))]\n",
    "\n",
    "# In some cases dates are used as headings instead of being part of the\n",
    "# text sample; adjust so dated text samples start with dates\n",
    "prefix = \"\"\n",
    "for (i, row) in df.iterrows():\n",
    "    # If the row already has \" - \", it already has the needed date prefix\n",
    "    if \" – \" not in row[\"text\"]:\n",
    "        try:\n",
    "            # If the row's text is a date, set it as the new prefix\n",
    "            parse(row[\"text\"])\n",
    "            prefix = row[\"text\"]\n",
    "        except:\n",
    "            # If the row's text isn't a date, add the prefix\n",
    "            row[\"text\"] = prefix + \" – \" + row[\"text\"]\n",
    "df = df[df[\"text\"].str.contains(\" – \")]\n",
    "df"
   ]
  },
  {
   "cell_type": "markdown",
   "id": "14c88a55",
   "metadata": {},
   "source": [
    "## Generating Embeddings\n",
    "\n",
    "We'll use the `Embedding` tooling from OpenAI [documentation here](https://platform.openai.com/docs/guides/embeddings/embeddings) to create vectors representing each row of our custom dataset."
   ]
  },
  {
   "cell_type": "markdown",
   "id": "0d91eeef",
   "metadata": {},
   "source": [
    "In order to avoid a `RateLimitError` we'll send our data in batches to the `Embedding.create` function."
   ]
  },
  {
   "cell_type": "code",
   "execution_count": 5,
   "id": "0e23bb24",
   "metadata": {},
   "outputs": [
    {
     "data": {
      "text/html": [
       "<div>\n",
       "<style scoped>\n",
       "    .dataframe tbody tr th:only-of-type {\n",
       "        vertical-align: middle;\n",
       "    }\n",
       "\n",
       "    .dataframe tbody tr th {\n",
       "        vertical-align: top;\n",
       "    }\n",
       "\n",
       "    .dataframe thead th {\n",
       "        text-align: right;\n",
       "    }\n",
       "</style>\n",
       "<table border=\"1\" class=\"dataframe\">\n",
       "  <thead>\n",
       "    <tr style=\"text-align: right;\">\n",
       "      <th></th>\n",
       "      <th>text</th>\n",
       "      <th>embeddings</th>\n",
       "    </tr>\n",
       "  </thead>\n",
       "  <tbody>\n",
       "    <tr>\n",
       "      <th>0</th>\n",
       "      <td>– 2022 (MMXXII) was a common year starting on...</td>\n",
       "      <td>[4.099189391126856e-05, -0.01798599772155285, ...</td>\n",
       "    </tr>\n",
       "    <tr>\n",
       "      <th>1</th>\n",
       "      <td>– The year began with another wave in the COV...</td>\n",
       "      <td>[-0.004883992485702038, -0.019815245643258095,...</td>\n",
       "    </tr>\n",
       "    <tr>\n",
       "      <th>2</th>\n",
       "      <td>– 2022 was also dominated by wars and armed c...</td>\n",
       "      <td>[-0.009615330025553703, -0.015318214893341064,...</td>\n",
       "    </tr>\n",
       "    <tr>\n",
       "      <th>9</th>\n",
       "      <td>January 1 – The Regional Comprehensive Econom...</td>\n",
       "      <td>[-0.0005404727999120951, -0.024158069863915443...</td>\n",
       "    </tr>\n",
       "    <tr>\n",
       "      <th>10</th>\n",
       "      <td>January 2 – Abdalla Hamdok resigns as Prime Mi...</td>\n",
       "      <td>[-0.014883670955896378, 0.0011910186149179935,...</td>\n",
       "    </tr>\n",
       "    <tr>\n",
       "      <th>...</th>\n",
       "      <td>...</td>\n",
       "      <td>...</td>\n",
       "    </tr>\n",
       "    <tr>\n",
       "      <th>242</th>\n",
       "      <td>December 21–December 26 – A major winter storm...</td>\n",
       "      <td>[-0.024877460673451424, -0.023879770189523697,...</td>\n",
       "    </tr>\n",
       "    <tr>\n",
       "      <th>243</th>\n",
       "      <td>December 24 – 2022 Fijian general election: Th...</td>\n",
       "      <td>[-0.011654332280158997, -0.009327322244644165,...</td>\n",
       "    </tr>\n",
       "    <tr>\n",
       "      <th>244</th>\n",
       "      <td>December 29 – Brazilian football legend Pelé d...</td>\n",
       "      <td>[-0.007616951130330563, 0.004034563899040222, ...</td>\n",
       "    </tr>\n",
       "    <tr>\n",
       "      <th>245</th>\n",
       "      <td>December 31 – Former Pope Benedict XVI dies at...</td>\n",
       "      <td>[0.023569442331790924, 0.007640643510967493, -...</td>\n",
       "    </tr>\n",
       "    <tr>\n",
       "      <th>249</th>\n",
       "      <td>December 7 – The world population was estimate...</td>\n",
       "      <td>[-0.0016265329904854298, -0.015277454629540443...</td>\n",
       "    </tr>\n",
       "  </tbody>\n",
       "</table>\n",
       "<p>185 rows × 2 columns</p>\n",
       "</div>"
      ],
      "text/plain": [
       "                                                  text  \\\n",
       "0     – 2022 (MMXXII) was a common year starting on...   \n",
       "1     – The year began with another wave in the COV...   \n",
       "2     – 2022 was also dominated by wars and armed c...   \n",
       "9     January 1 – The Regional Comprehensive Econom...   \n",
       "10   January 2 – Abdalla Hamdok resigns as Prime Mi...   \n",
       "..                                                 ...   \n",
       "242  December 21–December 26 – A major winter storm...   \n",
       "243  December 24 – 2022 Fijian general election: Th...   \n",
       "244  December 29 – Brazilian football legend Pelé d...   \n",
       "245  December 31 – Former Pope Benedict XVI dies at...   \n",
       "249  December 7 – The world population was estimate...   \n",
       "\n",
       "                                            embeddings  \n",
       "0    [4.099189391126856e-05, -0.01798599772155285, ...  \n",
       "1    [-0.004883992485702038, -0.019815245643258095,...  \n",
       "2    [-0.009615330025553703, -0.015318214893341064,...  \n",
       "9    [-0.0005404727999120951, -0.024158069863915443...  \n",
       "10   [-0.014883670955896378, 0.0011910186149179935,...  \n",
       "..                                                 ...  \n",
       "242  [-0.024877460673451424, -0.023879770189523697,...  \n",
       "243  [-0.011654332280158997, -0.009327322244644165,...  \n",
       "244  [-0.007616951130330563, 0.004034563899040222, ...  \n",
       "245  [0.023569442331790924, 0.007640643510967493, -...  \n",
       "249  [-0.0016265329904854298, -0.015277454629540443...  \n",
       "\n",
       "[185 rows x 2 columns]"
      ]
     },
     "execution_count": 5,
     "metadata": {},
     "output_type": "execute_result"
    }
   ],
   "source": [
    "EMBEDDING_MODEL_NAME = \"text-embedding-ada-002\"\n",
    "batch_size = 100\n",
    "embeddings = []\n",
    "for i in range(0, len(df), batch_size):\n",
    "    # Send text data to OpenAI model to get embeddings\n",
    "    response = openai.Embedding.create(\n",
    "        input=df.iloc[i:i+batch_size][\"text\"].tolist(),\n",
    "        engine=EMBEDDING_MODEL_NAME\n",
    "    )\n",
    "    \n",
    "    # Add embeddings to list\n",
    "    embeddings.extend([data[\"embedding\"] for data in response[\"data\"]])\n",
    "\n",
    "# Add embeddings list to dataframe\n",
    "df[\"embeddings\"] = embeddings\n",
    "df"
   ]
  },
  {
   "cell_type": "markdown",
   "id": "189c66e9",
   "metadata": {},
   "source": [
    "In order to avoid having to run that code again in the future, we'll save the generated embeddings as a CSV file."
   ]
  },
  {
   "cell_type": "code",
   "execution_count": 6,
   "id": "53f4909c",
   "metadata": {},
   "outputs": [],
   "source": [
    "df.to_csv(\"embeddings.csv\")"
   ]
  },
  {
   "cell_type": "code",
   "execution_count": 7,
   "id": "8cdddaed",
   "metadata": {},
   "outputs": [
    {
     "name": "stdout",
     "output_type": "stream",
     "text": [
      "casestudy.ipynb  codealong.ipynb  embeddings.csv  exercises\r\n"
     ]
    }
   ],
   "source": [
    "! ls"
   ]
  },
  {
   "cell_type": "markdown",
   "id": "c6362dc3",
   "metadata": {},
   "source": [
    "If you want to stop the tutorial here and come back, you can reload `df` using this code (again adding your API key) rather than generating the embeddings again:"
   ]
  },
  {
   "cell_type": "code",
   "execution_count": null,
   "id": "09921453",
   "metadata": {},
   "outputs": [],
   "source": [
    "# import numpy as np\n",
    "# import pandas as pd\n",
    "# import openai\n",
    "# openai.api_base = \"https://openai.vocareum.com/v1\"\n",
    "# openai.api_key = \"YOUR API KEY\"\n",
    "# df = pd.read_csv(\"embeddings.csv\", index_col=0)\n",
    "# df[\"embeddings\"] = df[\"embeddings\"].apply(eval).apply(np.array)"
   ]
  },
  {
   "cell_type": "code",
   "execution_count": 8,
   "id": "b5d9df3d",
   "metadata": {},
   "outputs": [
    {
     "data": {
      "text/html": [
       "<div>\n",
       "<style scoped>\n",
       "    .dataframe tbody tr th:only-of-type {\n",
       "        vertical-align: middle;\n",
       "    }\n",
       "\n",
       "    .dataframe tbody tr th {\n",
       "        vertical-align: top;\n",
       "    }\n",
       "\n",
       "    .dataframe thead th {\n",
       "        text-align: right;\n",
       "    }\n",
       "</style>\n",
       "<table border=\"1\" class=\"dataframe\">\n",
       "  <thead>\n",
       "    <tr style=\"text-align: right;\">\n",
       "      <th></th>\n",
       "      <th>text</th>\n",
       "      <th>embeddings</th>\n",
       "    </tr>\n",
       "  </thead>\n",
       "  <tbody>\n",
       "    <tr>\n",
       "      <th>0</th>\n",
       "      <td>– 2022 (MMXXII) was a common year starting on...</td>\n",
       "      <td>[4.099189391126856e-05, -0.01798599772155285, ...</td>\n",
       "    </tr>\n",
       "    <tr>\n",
       "      <th>1</th>\n",
       "      <td>– The year began with another wave in the COV...</td>\n",
       "      <td>[-0.004883992485702038, -0.019815245643258095,...</td>\n",
       "    </tr>\n",
       "    <tr>\n",
       "      <th>2</th>\n",
       "      <td>– 2022 was also dominated by wars and armed c...</td>\n",
       "      <td>[-0.009615330025553703, -0.015318214893341064,...</td>\n",
       "    </tr>\n",
       "    <tr>\n",
       "      <th>9</th>\n",
       "      <td>January 1 – The Regional Comprehensive Econom...</td>\n",
       "      <td>[-0.0005404727999120951, -0.024158069863915443...</td>\n",
       "    </tr>\n",
       "    <tr>\n",
       "      <th>10</th>\n",
       "      <td>January 2 – Abdalla Hamdok resigns as Prime Mi...</td>\n",
       "      <td>[-0.014883670955896378, 0.0011910186149179935,...</td>\n",
       "    </tr>\n",
       "    <tr>\n",
       "      <th>...</th>\n",
       "      <td>...</td>\n",
       "      <td>...</td>\n",
       "    </tr>\n",
       "    <tr>\n",
       "      <th>242</th>\n",
       "      <td>December 21–December 26 – A major winter storm...</td>\n",
       "      <td>[-0.024877460673451424, -0.023879770189523697,...</td>\n",
       "    </tr>\n",
       "    <tr>\n",
       "      <th>243</th>\n",
       "      <td>December 24 – 2022 Fijian general election: Th...</td>\n",
       "      <td>[-0.011654332280158997, -0.009327322244644165,...</td>\n",
       "    </tr>\n",
       "    <tr>\n",
       "      <th>244</th>\n",
       "      <td>December 29 – Brazilian football legend Pelé d...</td>\n",
       "      <td>[-0.007616951130330563, 0.004034563899040222, ...</td>\n",
       "    </tr>\n",
       "    <tr>\n",
       "      <th>245</th>\n",
       "      <td>December 31 – Former Pope Benedict XVI dies at...</td>\n",
       "      <td>[0.023569442331790924, 0.007640643510967493, -...</td>\n",
       "    </tr>\n",
       "    <tr>\n",
       "      <th>249</th>\n",
       "      <td>December 7 – The world population was estimate...</td>\n",
       "      <td>[-0.0016265329904854298, -0.015277454629540443...</td>\n",
       "    </tr>\n",
       "  </tbody>\n",
       "</table>\n",
       "<p>185 rows × 2 columns</p>\n",
       "</div>"
      ],
      "text/plain": [
       "                                                  text  \\\n",
       "0     – 2022 (MMXXII) was a common year starting on...   \n",
       "1     – The year began with another wave in the COV...   \n",
       "2     – 2022 was also dominated by wars and armed c...   \n",
       "9     January 1 – The Regional Comprehensive Econom...   \n",
       "10   January 2 – Abdalla Hamdok resigns as Prime Mi...   \n",
       "..                                                 ...   \n",
       "242  December 21–December 26 – A major winter storm...   \n",
       "243  December 24 – 2022 Fijian general election: Th...   \n",
       "244  December 29 – Brazilian football legend Pelé d...   \n",
       "245  December 31 – Former Pope Benedict XVI dies at...   \n",
       "249  December 7 – The world population was estimate...   \n",
       "\n",
       "                                            embeddings  \n",
       "0    [4.099189391126856e-05, -0.01798599772155285, ...  \n",
       "1    [-0.004883992485702038, -0.019815245643258095,...  \n",
       "2    [-0.009615330025553703, -0.015318214893341064,...  \n",
       "9    [-0.0005404727999120951, -0.024158069863915443...  \n",
       "10   [-0.014883670955896378, 0.0011910186149179935,...  \n",
       "..                                                 ...  \n",
       "242  [-0.024877460673451424, -0.023879770189523697,...  \n",
       "243  [-0.011654332280158997, -0.009327322244644165,...  \n",
       "244  [-0.007616951130330563, 0.004034563899040222, ...  \n",
       "245  [0.023569442331790924, 0.007640643510967493, -...  \n",
       "249  [-0.0016265329904854298, -0.015277454629540443...  \n",
       "\n",
       "[185 rows x 2 columns]"
      ]
     },
     "execution_count": 8,
     "metadata": {},
     "output_type": "execute_result"
    }
   ],
   "source": [
    "df"
   ]
  },
  {
   "cell_type": "markdown",
   "id": "482d3f08",
   "metadata": {},
   "source": [
    "# Step 2: Create a Function that Finds Related Pieces of Text for a Given Question\n",
    "\n",
    "What we are implementing here is similar to a search engine or recommendation algorithm. We want to sort all of the rows of our dataset from least relevant to most relevant.\n",
    "\n",
    "This will use the embeddings that we generated previously in order to compare the vectorized version of our question to the vectorized versions of the rows of the dataset."
   ]
  },
  {
   "cell_type": "code",
   "execution_count": 9,
   "id": "1f03ee28",
   "metadata": {},
   "outputs": [],
   "source": [
    "from openai.embeddings_utils import get_embedding, distances_from_embeddings\n",
    "\n",
    "def get_rows_sorted_by_relevance(question, df):\n",
    "    \"\"\"\n",
    "    Function that takes in a question string and a dataframe containing\n",
    "    rows of text and associated embeddings, and returns that dataframe\n",
    "    sorted from least to most relevant for that question\n",
    "    \"\"\"\n",
    "    \n",
    "    # Get embeddings for the question text\n",
    "    question_embeddings = get_embedding(question, engine=EMBEDDING_MODEL_NAME)\n",
    "    \n",
    "    # Make a copy of the dataframe and add a \"distances\" column containing\n",
    "    # the cosine distances between each row's embeddings and the\n",
    "    # embeddings of the question\n",
    "    df_copy = df.copy()\n",
    "    df_copy[\"distances\"] = distances_from_embeddings(\n",
    "        question_embeddings,\n",
    "        df_copy[\"embeddings\"].values,\n",
    "        distance_metric=\"cosine\"\n",
    "    )\n",
    "    \n",
    "    # Sort the copied dataframe by the distances and return it\n",
    "    # (shorter distance = more relevant so we sort in ascending order)\n",
    "    df_copy.sort_values(\"distances\", ascending=True, inplace=True)\n",
    "    return df_copy\n"
   ]
  },
  {
   "cell_type": "markdown",
   "id": "e46ca43c",
   "metadata": {},
   "source": [
    "Let's test that out for a couple different questions:"
   ]
  },
  {
   "cell_type": "code",
   "execution_count": 10,
   "id": "8b62af7b",
   "metadata": {},
   "outputs": [
    {
     "data": {
      "text/html": [
       "<div>\n",
       "<style scoped>\n",
       "    .dataframe tbody tr th:only-of-type {\n",
       "        vertical-align: middle;\n",
       "    }\n",
       "\n",
       "    .dataframe tbody tr th {\n",
       "        vertical-align: top;\n",
       "    }\n",
       "\n",
       "    .dataframe thead th {\n",
       "        text-align: right;\n",
       "    }\n",
       "</style>\n",
       "<table border=\"1\" class=\"dataframe\">\n",
       "  <thead>\n",
       "    <tr style=\"text-align: right;\">\n",
       "      <th></th>\n",
       "      <th>text</th>\n",
       "      <th>embeddings</th>\n",
       "      <th>distances</th>\n",
       "    </tr>\n",
       "  </thead>\n",
       "  <tbody>\n",
       "    <tr>\n",
       "      <th>51</th>\n",
       "      <td>March 2 – Russian invasion of Ukraine: Russia ...</td>\n",
       "      <td>[0.000819627195596695, -0.018423309549689293, ...</td>\n",
       "      <td>0.109220</td>\n",
       "    </tr>\n",
       "    <tr>\n",
       "      <th>79</th>\n",
       "      <td>April 3 – Russian invasion of Ukraine: As Russ...</td>\n",
       "      <td>[-0.012173655442893505, -0.012387797236442566,...</td>\n",
       "      <td>0.111504</td>\n",
       "    </tr>\n",
       "    <tr>\n",
       "      <th>220</th>\n",
       "      <td>November 11 – Russian invasion of Ukraine: Ukr...</td>\n",
       "      <td>[-0.01228396873921156, -0.013995513319969177, ...</td>\n",
       "      <td>0.115660</td>\n",
       "    </tr>\n",
       "    <tr>\n",
       "      <th>179</th>\n",
       "      <td>September 21 – Russian invasion of Ukraine: Fo...</td>\n",
       "      <td>[-0.02572084777057171, -0.02201724983751774, 0...</td>\n",
       "      <td>0.116959</td>\n",
       "    </tr>\n",
       "    <tr>\n",
       "      <th>206</th>\n",
       "      <td>October 29 – Russian invasion of Ukraine: In r...</td>\n",
       "      <td>[-0.009902012534439564, -0.03036184422671795, ...</td>\n",
       "      <td>0.117836</td>\n",
       "    </tr>\n",
       "    <tr>\n",
       "      <th>...</th>\n",
       "      <td>...</td>\n",
       "      <td>...</td>\n",
       "      <td>...</td>\n",
       "    </tr>\n",
       "    <tr>\n",
       "      <th>74</th>\n",
       "      <td>March 31 – Expo 2020 closes in Dubai after a 6...</td>\n",
       "      <td>[-0.003227824345231056, -0.0465402714908123, -...</td>\n",
       "      <td>0.292095</td>\n",
       "    </tr>\n",
       "    <tr>\n",
       "      <th>245</th>\n",
       "      <td>December 31 – Former Pope Benedict XVI dies at...</td>\n",
       "      <td>[0.023569442331790924, 0.007640643510967493, -...</td>\n",
       "      <td>0.293331</td>\n",
       "    </tr>\n",
       "    <tr>\n",
       "      <th>219</th>\n",
       "      <td>November 11 – The cryptocurrency exchange FTX,...</td>\n",
       "      <td>[0.0025262744165956974, -0.025431273505091667,...</td>\n",
       "      <td>0.294158</td>\n",
       "    </tr>\n",
       "    <tr>\n",
       "      <th>228</th>\n",
       "      <td>November 20 – 2022 Nepalese general election: ...</td>\n",
       "      <td>[-0.004346429370343685, -0.0007038800977170467...</td>\n",
       "      <td>0.295630</td>\n",
       "    </tr>\n",
       "    <tr>\n",
       "      <th>81</th>\n",
       "      <td>April 4 – The Intergovernmental Panel on Clima...</td>\n",
       "      <td>[-0.010415676981210709, -0.016407905146479607,...</td>\n",
       "      <td>0.298552</td>\n",
       "    </tr>\n",
       "  </tbody>\n",
       "</table>\n",
       "<p>185 rows × 3 columns</p>\n",
       "</div>"
      ],
      "text/plain": [
       "                                                  text  \\\n",
       "51   March 2 – Russian invasion of Ukraine: Russia ...   \n",
       "79   April 3 – Russian invasion of Ukraine: As Russ...   \n",
       "220  November 11 – Russian invasion of Ukraine: Ukr...   \n",
       "179  September 21 – Russian invasion of Ukraine: Fo...   \n",
       "206  October 29 – Russian invasion of Ukraine: In r...   \n",
       "..                                                 ...   \n",
       "74   March 31 – Expo 2020 closes in Dubai after a 6...   \n",
       "245  December 31 – Former Pope Benedict XVI dies at...   \n",
       "219  November 11 – The cryptocurrency exchange FTX,...   \n",
       "228  November 20 – 2022 Nepalese general election: ...   \n",
       "81   April 4 – The Intergovernmental Panel on Clima...   \n",
       "\n",
       "                                            embeddings  distances  \n",
       "51   [0.000819627195596695, -0.018423309549689293, ...   0.109220  \n",
       "79   [-0.012173655442893505, -0.012387797236442566,...   0.111504  \n",
       "220  [-0.01228396873921156, -0.013995513319969177, ...   0.115660  \n",
       "179  [-0.02572084777057171, -0.02201724983751774, 0...   0.116959  \n",
       "206  [-0.009902012534439564, -0.03036184422671795, ...   0.117836  \n",
       "..                                                 ...        ...  \n",
       "74   [-0.003227824345231056, -0.0465402714908123, -...   0.292095  \n",
       "245  [0.023569442331790924, 0.007640643510967493, -...   0.293331  \n",
       "219  [0.0025262744165956974, -0.025431273505091667,...   0.294158  \n",
       "228  [-0.004346429370343685, -0.0007038800977170467...   0.295630  \n",
       "81   [-0.010415676981210709, -0.016407905146479607,...   0.298552  \n",
       "\n",
       "[185 rows x 3 columns]"
      ]
     },
     "execution_count": 10,
     "metadata": {},
     "output_type": "execute_result"
    }
   ],
   "source": [
    "get_rows_sorted_by_relevance(\"When did Russia invade Ukraine?\", df)"
   ]
  },
  {
   "cell_type": "code",
   "execution_count": 11,
   "id": "9f4a3b50",
   "metadata": {},
   "outputs": [
    {
     "data": {
      "text/html": [
       "<div>\n",
       "<style scoped>\n",
       "    .dataframe tbody tr th:only-of-type {\n",
       "        vertical-align: middle;\n",
       "    }\n",
       "\n",
       "    .dataframe tbody tr th {\n",
       "        vertical-align: top;\n",
       "    }\n",
       "\n",
       "    .dataframe thead th {\n",
       "        text-align: right;\n",
       "    }\n",
       "</style>\n",
       "<table border=\"1\" class=\"dataframe\">\n",
       "  <thead>\n",
       "    <tr style=\"text-align: right;\">\n",
       "      <th></th>\n",
       "      <th>text</th>\n",
       "      <th>embeddings</th>\n",
       "      <th>distances</th>\n",
       "    </tr>\n",
       "  </thead>\n",
       "  <tbody>\n",
       "    <tr>\n",
       "      <th>201</th>\n",
       "      <td>October 28 – Elon Musk completes his $44 billi...</td>\n",
       "      <td>[-0.01019082497805357, -0.016080819070339203, ...</td>\n",
       "      <td>0.173022</td>\n",
       "    </tr>\n",
       "    <tr>\n",
       "      <th>97</th>\n",
       "      <td>April 25 – Elon Musk reaches an agreement to a...</td>\n",
       "      <td>[-0.011496664956212044, -0.01462513953447342, ...</td>\n",
       "      <td>0.182213</td>\n",
       "    </tr>\n",
       "    <tr>\n",
       "      <th>22</th>\n",
       "      <td>January 24 – The federal government under Scot...</td>\n",
       "      <td>[-0.009016457013785839, -0.008657625876367092,...</td>\n",
       "      <td>0.246826</td>\n",
       "    </tr>\n",
       "    <tr>\n",
       "      <th>219</th>\n",
       "      <td>November 11 – The cryptocurrency exchange FTX,...</td>\n",
       "      <td>[0.0025262744165956974, -0.025431273505091667,...</td>\n",
       "      <td>0.262713</td>\n",
       "    </tr>\n",
       "    <tr>\n",
       "      <th>230</th>\n",
       "      <td>November 30 – OpenAI releases ChatGPT, an arti...</td>\n",
       "      <td>[-0.011304354295134544, -0.01440393552184105, ...</td>\n",
       "      <td>0.264710</td>\n",
       "    </tr>\n",
       "    <tr>\n",
       "      <th>...</th>\n",
       "      <td>...</td>\n",
       "      <td>...</td>\n",
       "      <td>...</td>\n",
       "    </tr>\n",
       "    <tr>\n",
       "      <th>229</th>\n",
       "      <td>November 21 – A 5.6 earthquake strikes near Ci...</td>\n",
       "      <td>[0.004122345708310604, -0.004109382163733244, ...</td>\n",
       "      <td>0.324640</td>\n",
       "    </tr>\n",
       "    <tr>\n",
       "      <th>163</th>\n",
       "      <td>August 28 – 2022 Pakistan floods: Pakistan dec...</td>\n",
       "      <td>[-0.011932751163840294, -0.02291550487279892, ...</td>\n",
       "      <td>0.325970</td>\n",
       "    </tr>\n",
       "    <tr>\n",
       "      <th>170</th>\n",
       "      <td>September 5 – A 6.8 earthquake strikes Luding ...</td>\n",
       "      <td>[0.01265291590243578, 0.01628030464053154, 0.0...</td>\n",
       "      <td>0.326603</td>\n",
       "    </tr>\n",
       "    <tr>\n",
       "      <th>174</th>\n",
       "      <td>September 12 – September 2022 Armenia–Azerbaij...</td>\n",
       "      <td>[-0.012456459924578667, -0.009165199473500252,...</td>\n",
       "      <td>0.326933</td>\n",
       "    </tr>\n",
       "    <tr>\n",
       "      <th>141</th>\n",
       "      <td>July 19 – 2022 European heat waves: A series o...</td>\n",
       "      <td>[-0.002220469294115901, -0.014948803931474686,...</td>\n",
       "      <td>0.337463</td>\n",
       "    </tr>\n",
       "  </tbody>\n",
       "</table>\n",
       "<p>185 rows × 3 columns</p>\n",
       "</div>"
      ],
      "text/plain": [
       "                                                  text  \\\n",
       "201  October 28 – Elon Musk completes his $44 billi...   \n",
       "97   April 25 – Elon Musk reaches an agreement to a...   \n",
       "22   January 24 – The federal government under Scot...   \n",
       "219  November 11 – The cryptocurrency exchange FTX,...   \n",
       "230  November 30 – OpenAI releases ChatGPT, an arti...   \n",
       "..                                                 ...   \n",
       "229  November 21 – A 5.6 earthquake strikes near Ci...   \n",
       "163  August 28 – 2022 Pakistan floods: Pakistan dec...   \n",
       "170  September 5 – A 6.8 earthquake strikes Luding ...   \n",
       "174  September 12 – September 2022 Armenia–Azerbaij...   \n",
       "141  July 19 – 2022 European heat waves: A series o...   \n",
       "\n",
       "                                            embeddings  distances  \n",
       "201  [-0.01019082497805357, -0.016080819070339203, ...   0.173022  \n",
       "97   [-0.011496664956212044, -0.01462513953447342, ...   0.182213  \n",
       "22   [-0.009016457013785839, -0.008657625876367092,...   0.246826  \n",
       "219  [0.0025262744165956974, -0.025431273505091667,...   0.262713  \n",
       "230  [-0.011304354295134544, -0.01440393552184105, ...   0.264710  \n",
       "..                                                 ...        ...  \n",
       "229  [0.004122345708310604, -0.004109382163733244, ...   0.324640  \n",
       "163  [-0.011932751163840294, -0.02291550487279892, ...   0.325970  \n",
       "170  [0.01265291590243578, 0.01628030464053154, 0.0...   0.326603  \n",
       "174  [-0.012456459924578667, -0.009165199473500252,...   0.326933  \n",
       "141  [-0.002220469294115901, -0.014948803931474686,...   0.337463  \n",
       "\n",
       "[185 rows x 3 columns]"
      ]
     },
     "execution_count": 11,
     "metadata": {},
     "output_type": "execute_result"
    }
   ],
   "source": [
    "get_rows_sorted_by_relevance(\"Who owns Twitter?\", df)"
   ]
  },
  {
   "cell_type": "markdown",
   "id": "d7468993",
   "metadata": {},
   "source": [
    "# Step 3: Create a Function that Composes a Text Prompt\n",
    "\n",
    "Building on that sorted list of rows, we're going to select the create a text prompt that provides context to a `Completion` model in order to help it answer a question. The outline of the prompt looks like this:"
   ]
  },
  {
   "cell_type": "markdown",
   "id": "dab2a827",
   "metadata": {},
   "source": [
    "```\n",
    "Answer the question based on the context below, and if the\n",
    "question can't be answered based on the context, say \"I don't\n",
    "know\"\n",
    "\n",
    "Context:\n",
    "\n",
    "{context}\n",
    "\n",
    "---\n",
    "\n",
    "Question: {question}\n",
    "Answer:\n",
    "```"
   ]
  },
  {
   "cell_type": "markdown",
   "id": "1c74ff9d",
   "metadata": {},
   "source": [
    "We want to fit as much of our dataset as possible into the \"context\" part of the prompt without exceeding the number of tokens allowed by the `Completion` model, which is currently 4,000. So we'll loop over the dataset, counting the tokens as we go, and stop when we hit the limit. Then we'll join that list of text data into a single string and add it to the prompt."
   ]
  },
  {
   "cell_type": "code",
   "execution_count": 12,
   "id": "9c237429",
   "metadata": {},
   "outputs": [],
   "source": [
    "import tiktoken\n",
    "\n",
    "def create_prompt(question, df, max_token_count):\n",
    "    \"\"\"\n",
    "    Given a question and a dataframe containing rows of text and their\n",
    "    embeddings, return a text prompt to send to a Completion model\n",
    "    \"\"\"\n",
    "    # Create a tokenizer that is designed to align with our embeddings\n",
    "    tokenizer = tiktoken.get_encoding(\"cl100k_base\")\n",
    "    \n",
    "    # Count the number of tokens in the prompt template and question\n",
    "    prompt_template = \"\"\"\n",
    "Answer the question based on the context below, and if the question\n",
    "can't be answered based on the context, say \"I don't know\"\n",
    "\n",
    "Context: \n",
    "\n",
    "{}\n",
    "\n",
    "---\n",
    "\n",
    "Question: {}\n",
    "Answer:\"\"\"\n",
    "    \n",
    "    current_token_count = len(tokenizer.encode(prompt_template)) + \\\n",
    "                            len(tokenizer.encode(question))\n",
    "    \n",
    "    context = []\n",
    "    for text in get_rows_sorted_by_relevance(question, df)[\"text\"].values:\n",
    "        \n",
    "        # Increase the counter based on the number of tokens in this row\n",
    "        text_token_count = len(tokenizer.encode(text))\n",
    "        current_token_count += text_token_count\n",
    "        \n",
    "        # Add the row of text to the list if we haven't exceeded the max\n",
    "        if current_token_count <= max_token_count:\n",
    "            context.append(text)\n",
    "        else:\n",
    "            break\n",
    "\n",
    "    return prompt_template.format(\"\\n\\n###\\n\\n\".join(context), question)\n",
    "    "
   ]
  },
  {
   "cell_type": "markdown",
   "id": "5f2c6a02",
   "metadata": {},
   "source": [
    "Now let's test that out! We'll use a `max_token_count` below the actual limit just to keep the output shorter and more readable."
   ]
  },
  {
   "cell_type": "code",
   "execution_count": 13,
   "id": "eb5d6882",
   "metadata": {},
   "outputs": [
    {
     "name": "stdout",
     "output_type": "stream",
     "text": [
      "\n",
      "Answer the question based on the context below, and if the question\n",
      "can't be answered based on the context, say \"I don't know\"\n",
      "\n",
      "Context: \n",
      "\n",
      "March 2 – Russian invasion of Ukraine: Russia captures its first large city, the Black Sea port of Kherson, as shelling intensifies across many parts of Ukraine, including civilian areas.\n",
      "\n",
      "###\n",
      "\n",
      "April 3 – Russian invasion of Ukraine: As Russia's forces retreat from areas near Kyiv, it is accused by Ukraine of war crimes, amid mounting evidence of indiscriminate civilian killings, including the Bucha massacre.\n",
      "\n",
      "###\n",
      "\n",
      "November 11 – Russian invasion of Ukraine: Ukrainian forces recapture Kherson, the only regional capital to be taken by Russia since the start of the war.\n",
      "\n",
      "---\n",
      "\n",
      "Question: When did Russia invade Ukraine?\n",
      "Answer:\n"
     ]
    }
   ],
   "source": [
    "print(create_prompt(\"When did Russia invade Ukraine?\", df, 200))"
   ]
  },
  {
   "cell_type": "code",
   "execution_count": 14,
   "id": "c7b6fb2a",
   "metadata": {
    "scrolled": false
   },
   "outputs": [
    {
     "name": "stdout",
     "output_type": "stream",
     "text": [
      "\n",
      "Answer the question based on the context below, and if the question\n",
      "can't be answered based on the context, say \"I don't know\"\n",
      "\n",
      "Context: \n",
      "\n",
      "October 28 – Elon Musk completes his $44 billion acquisition of Twitter.\n",
      "\n",
      "###\n",
      "\n",
      "April 25 – Elon Musk reaches an agreement to acquire the social media network Twitter (which he later rebrands as X) for $44 billion USD, which later closes in October.\n",
      "\n",
      "---\n",
      "\n",
      "Question: Who owns Twitter?\n",
      "Answer:\n"
     ]
    }
   ],
   "source": [
    "print(create_prompt(\"Who owns Twitter?\", df, 100))"
   ]
  },
  {
   "cell_type": "markdown",
   "id": "403f11b5",
   "metadata": {},
   "source": [
    "# Step 4: Create a Function that Answers a Question\n",
    "\n",
    "Our final step is to send that text prompt to a `Completion` model and parse the model output!"
   ]
  },
  {
   "cell_type": "code",
   "execution_count": 15,
   "id": "5004879e",
   "metadata": {},
   "outputs": [],
   "source": [
    "COMPLETION_MODEL_NAME = \"gpt-3.5-turbo-instruct\"\n",
    "\n",
    "def answer_question(\n",
    "    question, df, max_prompt_tokens=1800, max_answer_tokens=150\n",
    "):\n",
    "    \"\"\"\n",
    "    Given a question, a dataframe containing rows of text, and a maximum\n",
    "    number of desired tokens in the prompt and response, return the\n",
    "    answer to the question according to an OpenAI Completion model\n",
    "    \n",
    "    If the model produces an error, return an empty string\n",
    "    \"\"\"\n",
    "    \n",
    "    prompt = create_prompt(question, df, max_prompt_tokens)\n",
    "    \n",
    "    try:\n",
    "        response = openai.Completion.create(\n",
    "            model=COMPLETION_MODEL_NAME,\n",
    "            prompt=prompt,\n",
    "            max_tokens=max_answer_tokens\n",
    "        )\n",
    "        return response[\"choices\"][0][\"text\"].strip()\n",
    "    except Exception as e:\n",
    "        print(e)\n",
    "        return \"\"\n",
    "        "
   ]
  },
  {
   "cell_type": "markdown",
   "id": "6598a361",
   "metadata": {},
   "source": [
    "Now that we have all of the code complete, let's test it out!"
   ]
  },
  {
   "cell_type": "code",
   "execution_count": 16,
   "id": "16adca80",
   "metadata": {},
   "outputs": [
    {
     "name": "stdout",
     "output_type": "stream",
     "text": [
      "The invasion began with the annexation of Crimea in February 2014, but the main military operations began in February 2022. Specific dates of invasion mentioned in the context include February 24, February 27, March 2, April 8, September 30, and October 8, among others.\n"
     ]
    }
   ],
   "source": [
    "custom_ukraine_answer = answer_question(\"When did Russia invade Ukraine?\", df)\n",
    "print(custom_ukraine_answer)"
   ]
  },
  {
   "cell_type": "code",
   "execution_count": 17,
   "id": "f71822dc",
   "metadata": {},
   "outputs": [
    {
     "name": "stdout",
     "output_type": "stream",
     "text": [
      "Elon Musk.\n"
     ]
    }
   ],
   "source": [
    "custom_twitter_answer = answer_question(\"Who owns Twitter?\", df)\n",
    "print(custom_twitter_answer)"
   ]
  },
  {
   "cell_type": "markdown",
   "id": "15ad6fb6",
   "metadata": {},
   "source": [
    "Below we compare answers with and without our custom prompt:"
   ]
  },
  {
   "cell_type": "code",
   "execution_count": 18,
   "id": "8577558a",
   "metadata": {},
   "outputs": [
    {
     "name": "stdout",
     "output_type": "stream",
     "text": [
      "\n",
      "When did Russia invade Ukraine?\n",
      "\n",
      "Original Answer: Russia invaded Ukraine in 2014.\n",
      "Custom Answer:   The invasion began with the annexation of Crimea in February 2014, but the main military operations began in February 2022. Specific dates of invasion mentioned in the context include February 24, February 27, March 2, April 8, September 30, and October 8, among others.\n",
      "\n",
      "Who owns Twitter?\n",
      "Original Answer: Jack Dorsey, Noah Glass, Biz Stone, and Evan Williams. They are the co-founders of Twitter and have ownership stakes in the company. Additionally, many individual and institutional investors also hold shares of Twitter. As of April 2021, the largest individual shareholder is billionaire and activist investor Paul Singer, who holds a 10.4% stake in Twitter through his hedge fund Elliott Management.\n",
      "Custom Answer:   Elon Musk.\n",
      "\n"
     ]
    }
   ],
   "source": [
    "print(f\"\"\"\n",
    "When did Russia invade Ukraine?\n",
    "\n",
    "Original Answer: {initial_ukraine_answer}\n",
    "Custom Answer:   {custom_ukraine_answer}\n",
    "\n",
    "Who owns Twitter?\n",
    "Original Answer: {initial_twitter_answer}\n",
    "Custom Answer:   {custom_twitter_answer}\n",
    "\"\"\")"
   ]
  },
  {
   "cell_type": "markdown",
   "id": "9ecaede2",
   "metadata": {},
   "source": [
    "## Summary\n",
    "\n",
    "You just used unsupervised machine learning to perform prompt engineering for custom OpenAI chat responses!\n",
    "\n",
    "In this example, we provided context from 2022 news headlines to answer questions about current events. Try finding your own dataset for some other custom task!"
   ]
  },
  {
   "cell_type": "code",
   "execution_count": null,
   "id": "d16421d0",
   "metadata": {},
   "outputs": [],
   "source": []
  }
 ],
 "metadata": {
  "kernelspec": {
   "display_name": "Python 3 (ipykernel)",
   "language": "python",
   "name": "python3"
  },
  "language_info": {
   "codemirror_mode": {
    "name": "ipython",
    "version": 3
   },
   "file_extension": ".py",
   "mimetype": "text/x-python",
   "name": "python",
   "nbconvert_exporter": "python",
   "pygments_lexer": "ipython3",
   "version": "3.9.18"
  }
 },
 "nbformat": 4,
 "nbformat_minor": 5
}
